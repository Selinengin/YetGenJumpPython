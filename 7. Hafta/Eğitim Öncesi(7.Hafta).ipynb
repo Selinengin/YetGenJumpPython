{
 "cells": [
  {
   "cell_type": "code",
   "execution_count": null,
   "metadata": {},
   "outputs": [],
   "source": [
    "# Dosya Okuma İŞlemleri\n",
    "# open(DosyaIsmi, DosyaModu)\n",
    "# r: okuma modu belirtilen konumda dosya olması gerekir.\n",
    "# close() dosyayı kapatır."
   ]
  },
  {
   "cell_type": "code",
   "execution_count": null,
   "metadata": {},
   "outputs": [],
   "source": [
    "f = open(\"bilgiler.txt\")\n",
    "print(f)\n",
    "# <_io.TextIOWrapper name='bilgiler.txt' mode='r' encoding='cp1254'>"
   ]
  },
  {
   "cell_type": "code",
   "execution_count": 2,
   "metadata": {},
   "outputs": [
    {
     "name": "stdout",
     "output_type": "stream",
     "text": [
      "Dosya bulunamadı.\n"
     ]
    }
   ],
   "source": [
    "try:\n",
    "    file = open(\"bilgiler2.txt\",\"r\",encoding=\"utf-8\")\n",
    "except:\n",
    "    print(\"Dosya bulunamadı.\")"
   ]
  },
  {
   "cell_type": "code",
   "execution_count": 4,
   "metadata": {},
   "outputs": [
    {
     "name": "stdout",
     "output_type": "stream",
     "text": [
      "Yetgen\n",
      "\n",
      "Jump\n",
      "\n",
      "Python\n",
      "\n",
      "2\n"
     ]
    }
   ],
   "source": [
    "file = open(\"bilgiler.txt\",\"r\",encoding=\"utf-8\")\n",
    "for i in file:\n",
    "    print(i)\n",
    "file.close()"
   ]
  },
  {
   "cell_type": "code",
   "execution_count": 7,
   "metadata": {},
   "outputs": [
    {
     "name": "stdout",
     "output_type": "stream",
     "text": [
      "1.okuma dosya içeriği\n",
      " Yetgen\n",
      "Jump\n",
      "Python\n",
      "2\n",
      "2.okuma dosya içeriği\n",
      " Yetgen\n",
      "Jump\n",
      "Python\n",
      "2\n"
     ]
    }
   ],
   "source": [
    "# read() fonksiyonu içine hiçbir değer verilmezse bütün dosyayı okur.\n",
    "# read() fonksiyonu ile bir dosyayı okuduğumuzda dosya imlecimiz dosyanın en sonuna gider\n",
    "# ve ikinci okumada boş string döner.\n",
    "file = open(\"bilgiler.txt\",\"r\",encoding=\"utf-8\")\n",
    "icerik = file.read()\n",
    "print(\"1.okuma dosya içeriği\\n\",icerik, sep = \" \")\n",
    "icerik2 = file.read()\n",
    "print(\"2.okuma dosya içeriği\\n\",icerik, sep = \" \")\n",
    "file.close()"
   ]
  },
  {
   "cell_type": "code",
   "execution_count": 9,
   "metadata": {},
   "outputs": [
    {
     "name": "stdout",
     "output_type": "stream",
     "text": [
      "Yetgen\n",
      "\n",
      "Jump\n",
      "\n",
      "Python\n",
      "\n",
      "2\n",
      "\n"
     ]
    }
   ],
   "source": [
    "# readline() fonksiyonu Her çalıştığında bir satır okur.\n",
    "file = open(\"bilgiler.txt\",\"r\",encoding=\"utf-8\")\n",
    "print(file.readline())\n",
    "print(file.readline())\n",
    "print(file.readline())\n",
    "print(file.readline())\n",
    "print(file.readline())\n",
    "file.close()"
   ]
  },
  {
   "cell_type": "code",
   "execution_count": 11,
   "metadata": {},
   "outputs": [
    {
     "name": "stdout",
     "output_type": "stream",
     "text": [
      "['Yetgen\\n', 'Jump\\n', 'Python\\n', '2']\n"
     ]
    }
   ],
   "source": [
    "# readlines fonksiyonu dosyanın bütün satırları bir liste şeklinde döner.\n",
    "file = open(\"bilgiler.txt\",\"r\",encoding=\"utf-8\")\n",
    "print(file.readlines())\n",
    "file.close()"
   ]
  },
  {
   "cell_type": "code",
   "execution_count": null,
   "metadata": {},
   "outputs": [],
   "source": [
    "# w: Yazma modu. Dosyayı konumda oluşturur. Eğer dosya mevcut ise, dosyayı siler ve yeni bir \n",
    "# dosya oluşturur."
   ]
  },
  {
   "cell_type": "code",
   "execution_count": 17,
   "metadata": {},
   "outputs": [],
   "source": [
    "file = open(\"bilgiler.txt\",\"w\",encoding=\"utf-8\")\n",
    "file.write(\"YetGen\\n\")\n",
    "file.close()"
   ]
  },
  {
   "cell_type": "code",
   "execution_count": null,
   "metadata": {},
   "outputs": [],
   "source": [
    "# a: append(ekleme) modudur. Dosya konumds varsa oluşturur. Dosya konumda var ise ekleme işlemi yapar.\n",
    "# r+: Hem okuma hem yazma modudur. Dosya konumda yoksa hata verir."
   ]
  },
  {
   "cell_type": "code",
   "execution_count": 18,
   "metadata": {},
   "outputs": [],
   "source": [
    "file = open(\"bilgiler.txt\",\"a\",encoding=\"utf-8\")\n",
    "file.write(\"Jump\\n\")\n",
    "file.close()"
   ]
  },
  {
   "cell_type": "code",
   "execution_count": 19,
   "metadata": {},
   "outputs": [],
   "source": [
    "file = open(\"bilgiler.txt\",\"r+\",encoding=\"utf-8\")\n",
    "file.write(\"Python\\n\")\n",
    "file.read() # r+ modunda yazmak gerekir.\n",
    "file.close()"
   ]
  },
  {
   "cell_type": "code",
   "execution_count": null,
   "metadata": {},
   "outputs": [],
   "source": [
    "# Dosyaları otomatik kapatma\n",
    "# with open(dosya_adı,dosya_kipi) as file:\n",
    "    # Dosya İşlemleri"
   ]
  },
  {
   "cell_type": "code",
   "execution_count": 20,
   "metadata": {},
   "outputs": [
    {
     "name": "stdout",
     "output_type": "stream",
     "text": [
      "Python\n",
      "\n",
      "Jump\n",
      "\n"
     ]
    }
   ],
   "source": [
    "with open(\"bilgiler.txt\",\"r\",encoding=\"utf-8\") as file:\n",
    "    for i in file:\n",
    "        print(i)"
   ]
  },
  {
   "cell_type": "code",
   "execution_count": null,
   "metadata": {},
   "outputs": [],
   "source": [
    "# Dosyayı ileri - geri sarmak\n",
    "# seek() modunu kullanarak istediğiniz bayt konumuna dönebilirsiniz.\n",
    "# Dosyanın hangi bayt konumunda bulunduğunu öğrenmek istersenizde tell() modu kullanılır."
   ]
  },
  {
   "cell_type": "code",
   "execution_count": 21,
   "metadata": {},
   "outputs": [
    {
     "name": "stdout",
     "output_type": "stream",
     "text": [
      "20\n"
     ]
    }
   ],
   "source": [
    "with open(\"bilgiler.txt\",\"r\",encoding=\"utf-8\") as file:\n",
    "    file.seek(20)\n",
    "    print(file.tell())"
   ]
  },
  {
   "cell_type": "code",
   "execution_count": 22,
   "metadata": {},
   "outputs": [
    {
     "name": "stdout",
     "output_type": "stream",
     "text": [
      "n\n",
      "Jump\n",
      "\n",
      "Python\n"
     ]
    }
   ],
   "source": [
    "with open(\"bilgiler.txt\",\"r\",encoding=\"utf-8\") as file:\n",
    "    file.seek(5)\n",
    "    icerik = file.read(10)\n",
    "    print(icerik)\n",
    "    file.seek(0)\n",
    "    icerik2 = file.read(6)\n",
    "    print(icerik2)"
   ]
  },
  {
   "cell_type": "code",
   "execution_count": 25,
   "metadata": {},
   "outputs": [],
   "source": [
    "# Dosyanın sonunda değişiklik yapmak\n",
    "with open(\"bilgiler.txt\",\"r+\",encoding=\"utf-8\") as file:\n",
    "    file.seek(10)\n",
    "    file.write(\"deneme\")\n",
    "\n",
    "    "
   ]
  },
  {
   "cell_type": "code",
   "execution_count": 26,
   "metadata": {},
   "outputs": [
    {
     "name": "stdout",
     "output_type": "stream",
     "text": [
      "Python\n",
      "Judeneme\n"
     ]
    }
   ],
   "source": [
    "with open(\"bilgiler.txt\",\"r+\",encoding=\"utf-8\") as file:\n",
    "    print(file.read())"
   ]
  },
  {
   "cell_type": "code",
   "execution_count": 28,
   "metadata": {},
   "outputs": [],
   "source": [
    "# Dosyanın başında değişiklik yapmak\n",
    "with open(\"bilgiler.txt\",\"r+\",encoding=\"utf-8\") as file:\n",
    "    icerik = file.read()\n",
    "    icerik = \"Deneme\\n\"+ icerik\n",
    "    file.seek(0)\n",
    "    file.write(icerik)\n"
   ]
  },
  {
   "cell_type": "code",
   "execution_count": 29,
   "metadata": {},
   "outputs": [
    {
     "name": "stdout",
     "output_type": "stream",
     "text": [
      "Deneme\n",
      "Python\n",
      "Judeneme\n"
     ]
    }
   ],
   "source": [
    "with open(\"bilgiler.txt\",\"r+\",encoding=\"utf-8\") as file:\n",
    "    print(file.read())"
   ]
  },
  {
   "cell_type": "code",
   "execution_count": 31,
   "metadata": {},
   "outputs": [],
   "source": [
    "# Dosya ortasında değişiklik yapmak\n",
    "with open(\"bilgiler.txt\",\"r+\",encoding=\"utf-8\") as file:\n",
    "    liste = file.readlines()\n",
    "    liste.insert(3,\"deneme\\n\")\n",
    "    file.seek(0)\n",
    "    file.writelines(liste)"
   ]
  },
  {
   "cell_type": "code",
   "execution_count": 33,
   "metadata": {},
   "outputs": [
    {
     "name": "stdout",
     "output_type": "stream",
     "text": [
      "Deneme\n",
      "Python\n",
      "Judenemedeneme\n",
      "\n"
     ]
    }
   ],
   "source": [
    "with open(\"bilgiler.txt\",\"r+\",encoding=\"utf-8\") as file:\n",
    "    icerik = file.read()\n",
    "    print(icerik)"
   ]
  },
  {
   "cell_type": "code",
   "execution_count": 34,
   "metadata": {},
   "outputs": [],
   "source": [
    "# Nesne yönelimli programlama (OOP)\n",
    "# DRY(don't repeat yourself)\n",
    "# Class\n",
    "# objelerimizi oluştururken obje özelliklerini ve metodlarını tanımladığımız bir yapıdır.\n",
    "\n",
    "class Araba():\n",
    "    # sınıf özellikleri(Attribute)\n",
    "    model = \"Renault Megane\"\n",
    "    renk = \"Gümüş\"\n",
    "    beygirGucu = 110\n",
    "    silindir = 4"
   ]
  },
  {
   "cell_type": "code",
   "execution_count": 36,
   "metadata": {},
   "outputs": [
    {
     "name": "stdout",
     "output_type": "stream",
     "text": [
      "Renault Megane\n",
      "110\n"
     ]
    }
   ],
   "source": [
    "# obje oluşturma \n",
    "# obje_ismi = sınıf_ismi(parametreler(opsiyonel))\n",
    "# özeliiklere erişme : obje_ismi.özellik_ismi\n",
    "araba1 = Araba()\n",
    "print(araba1.model)\n",
    "print(araba1.beygirGucu)"
   ]
  },
  {
   "cell_type": "code",
   "execution_count": 37,
   "metadata": {},
   "outputs": [
    {
     "name": "stdout",
     "output_type": "stream",
     "text": [
      "kuş\n"
     ]
    }
   ],
   "source": [
    "class Animal :\n",
    "    name = \"kuş\"\n",
    "    print(name)"
   ]
  },
  {
   "cell_type": "code",
   "execution_count": null,
   "metadata": {},
   "outputs": [],
   "source": [
    "# init() : Yapıcı(constructor) fonksiyon olarak tanımlanmaktadır. Bu metod objeler oluşturulurken otomatik olarak\n",
    "# ilk çağrılan fonksiyondur. Bu metodu özel olarak tanımlayarak objelerimizi farklı değerlerle oluşturabiliriz.\n",
    "# self anahtar kelimesi objeyi oluşturduğumuz zaman o objeyi gösteren bir referanstır. \n",
    "# ve metodlarımızda en başta bulunması gereken bir parametredir."
   ]
  },
  {
   "cell_type": "code",
   "execution_count": 38,
   "metadata": {},
   "outputs": [
    {
     "name": "stdout",
     "output_type": "stream",
     "text": [
      "init fonksiyonu çalıştı.\n"
     ]
    }
   ],
   "source": [
    "class Araba():\n",
    "    def __init__(self):\n",
    "        print(\"init fonksiyonu çalıştı.\")\n",
    "araba = Araba()"
   ]
  },
  {
   "cell_type": "code",
   "execution_count": 39,
   "metadata": {},
   "outputs": [
    {
     "name": "stdout",
     "output_type": "stream",
     "text": [
      "Peugeot 301\n"
     ]
    }
   ],
   "source": [
    "class Araba():\n",
    "    def __init__(self,model,renk,beygir,silindir):\n",
    "        self.model = model\n",
    "        self.renk = renk\n",
    "        self.beygir = beygir\n",
    "        self.silindir =silindir\n",
    "araba2 = Araba(\"Peugeot 301\",\"Beyaz\",90,4)\n",
    "print(araba2.model)"
   ]
  },
  {
   "cell_type": "code",
   "execution_count": null,
   "metadata": {},
   "outputs": [],
   "source": [
    "'''\n",
    "Uygulama\n",
    "- Comment isminde bir sınıf oluşturunuz.\n",
    "- bu sınıf username, text, likes, dislikes isminde özelliklere sahip olsun.\n",
    "- 5 adat farklı commment oluşturup döngü yardımıyla yorumları ekrana yazdırınız.\n",
    "\n",
    "'''"
   ]
  },
  {
   "cell_type": "code",
   "execution_count": 1,
   "metadata": {},
   "outputs": [
    {
     "name": "stdout",
     "output_type": "stream",
     "text": [
      "Berkcan : python öğreniyorum yorumunu yapıp 43 beğeni aldı. 1 dislike aldı.\n",
      "Ahmet : jumperlar çok güzel çalışıyor. yorumunu yapıp 50 beğeni aldı. 10 dislike aldı.\n",
      "Emirhan : bu seneki jumperlar çok başarılı. yorumunu yapıp 100 beğeni aldı. 5 dislike aldı.\n",
      "Eslem : liderler ekibi bir harika yorumunu yapıp 50 beğeni aldı. 1 dislike aldı.\n",
      "Jumper : liderlerimiz bizim için çok çalışıyorlar yorumunu yapıp 200 beğeni aldı. 100 dislike aldı.\n"
     ]
    }
   ],
   "source": [
    "class Comment():\n",
    "    def __init__(self,username,text,likes,dislikes):\n",
    "        self.username = username\n",
    "        self.text = text\n",
    "        self.likes = likes\n",
    "        self.dislikes = dislikes\n",
    "c1 = Comment(\"Berkcan\",\"python öğreniyorum\",43,1)\n",
    "c2 = Comment(\"Ahmet\",\"jumperlar çok güzel çalışıyor.\",50,10)\n",
    "c3 = Comment(\"Emirhan\",\"bu seneki jumperlar çok başarılı.\",100,5)\n",
    "c4 = Comment(\"Eslem\",\"liderler ekibi bir harika\",50,1)\n",
    "c5 = Comment(\"Jumper\",\"liderlerimiz bizim için çok çalışıyorlar\",200,100)\n",
    "comments =[c1,c2,c3,c4,c5]\n",
    "for c in comments:\n",
    "    print(f\"{c.username} : {c.text} yorumunu yapıp {c.likes} beğeni aldı. {c.dislikes} dislike aldı.\")"
   ]
  }
 ],
 "metadata": {
  "kernelspec": {
   "display_name": "Python 3",
   "language": "python",
   "name": "python3"
  },
  "language_info": {
   "codemirror_mode": {
    "name": "ipython",
    "version": 3
   },
   "file_extension": ".py",
   "mimetype": "text/x-python",
   "name": "python",
   "nbconvert_exporter": "python",
   "pygments_lexer": "ipython3",
   "version": "3.10.11"
  },
  "orig_nbformat": 4,
  "vscode": {
   "interpreter": {
    "hash": "fe08b3bf7c974c721045664a3bac61415d6e497350f49234b5ba1e2458a0fc19"
   }
  }
 },
 "nbformat": 4,
 "nbformat_minor": 2
}
