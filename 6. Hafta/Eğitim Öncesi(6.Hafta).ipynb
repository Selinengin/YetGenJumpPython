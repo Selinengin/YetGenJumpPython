{
 "cells": [
  {
   "cell_type": "code",
   "execution_count": 6,
   "metadata": {},
   "outputs": [
    {
     "name": "stdout",
     "output_type": "stream",
     "text": [
      "120\n",
      "2.718281828459045\n",
      "3\n",
      "4\n"
     ]
    }
   ],
   "source": [
    "# Modüller\n",
    "# Math modülü\n",
    "import math\n",
    "# dir(math)\n",
    "# help(math)\n",
    "print(math.factorial(5))\n",
    "print(math.e)\n",
    "print(math.floor(3.9))\n",
    "print(math.ceil(3.2))"
   ]
  },
  {
   "cell_type": "code",
   "execution_count": 7,
   "metadata": {},
   "outputs": [
    {
     "name": "stdout",
     "output_type": "stream",
     "text": [
      "kendi faktöriyel fonksiyonum\n"
     ]
    },
    {
     "data": {
      "text/plain": [
       "120"
      ]
     },
     "execution_count": 7,
     "metadata": {},
     "output_type": "execute_result"
    }
   ],
   "source": [
    "from math import *\n",
    "def factorial(sayi):\n",
    "    print(\"kendi faktöriyel fonksiyonum\")\n",
    "    faktoriyel = 1\n",
    "    if sayi == 0 or sayi == 1:\n",
    "        return 1\n",
    "    while (sayi>=1):\n",
    "        faktoriyel *= sayi \n",
    "        sayi -= 1\n",
    "    return faktoriyel\n",
    "factorial(5)\n"
   ]
  },
  {
   "cell_type": "code",
   "execution_count": 9,
   "metadata": {},
   "outputs": [
    {
     "name": "stdout",
     "output_type": "stream",
     "text": [
      "[4, 64, 256, 1024, 4096]\n"
     ]
    },
    {
     "data": {
      "text/plain": [
       "[45, 120, 231, 384]"
      ]
     },
     "execution_count": 9,
     "metadata": {},
     "output_type": "execute_result"
    }
   ],
   "source": [
    "# map fonksiyonu\n",
    "numbers = [2,8,16,32,64]\n",
    "powers = []\n",
    "def power(x):\n",
    "    return x ** 2\n",
    "powers = list(map(power, numbers))\n",
    "print(powers)\n",
    "\n",
    "liste1 = [1,2,3,4]\n",
    "liste2 = [5,6,7,8]\n",
    "liste3 = [9,10,11,12]\n",
    "list(map(lambda x,y,z : x*y*z, liste1, liste2, liste3))"
   ]
  },
  {
   "cell_type": "code",
   "execution_count": 10,
   "metadata": {},
   "outputs": [
    {
     "data": {
      "text/plain": [
       "[0, 2, 4, 6, 8, 10]"
      ]
     },
     "execution_count": 10,
     "metadata": {},
     "output_type": "execute_result"
    }
   ],
   "source": [
    "# Filter fonksiyonu\n",
    "list(filter(lambda x : x % 2==0, [0,1,2,3,4,5,6,7,8,9,10]))"
   ]
  },
  {
   "cell_type": "code",
   "execution_count": 12,
   "metadata": {},
   "outputs": [
    {
     "name": "stdout",
     "output_type": "stream",
     "text": [
      "[2, 3, 5, 7, 11, 13, 17, 19, 23, 29, 31, 37, 41, 43, 47, 53, 59, 61, 67, 71, 73, 79, 83, 89, 97]\n"
     ]
    }
   ],
   "source": [
    "def asal_mi(sayi):\n",
    "    i = 2\n",
    "    if (sayi == 1):\n",
    "        return False\n",
    "    if (sayi == 2):\n",
    "        return True\n",
    "    else:\n",
    "        while i < sayi:\n",
    "            if(sayi % i == 0):\n",
    "                return False\n",
    "            i += 1\n",
    "    return True\n",
    "print(list(filter(asal_mi, range(1,100))))"
   ]
  },
  {
   "cell_type": "code",
   "execution_count": 15,
   "metadata": {},
   "outputs": [
    {
     "data": {
      "text/plain": [
       "[(1, 5, 'Python'), (2, 6, 'Java'), (3, 7, 'c#'), (4, 8, 'Javascript')]"
      ]
     },
     "execution_count": 15,
     "metadata": {},
     "output_type": "execute_result"
    }
   ],
   "source": [
    "# Zip fonksiyonu\n",
    "liste1 = [1,2,3,4]\n",
    "liste2 = [5,6,7,8]\n",
    "liste3 = [\"Python\",\"Java\",\"c#\",\"Javascript\"]\n",
    "list(zip(liste1,liste2,liste3))"
   ]
  },
  {
   "cell_type": "code",
   "execution_count": 16,
   "metadata": {},
   "outputs": [
    {
     "data": {
      "text/plain": [
       "[('Elma', 'Sıfır'), ('Armut', 'Bir'), ('Kiraz', 'İki')]"
      ]
     },
     "execution_count": 16,
     "metadata": {},
     "output_type": "execute_result"
    }
   ],
   "source": [
    "sozluk1 = {\"Elma\":1,\"Armut\":2,\"Kiraz\":3}\n",
    "sozluk2 = {\"Sıfır\":0,\"Bir\":1,\"İki\":2}\n",
    "list(zip(sozluk1,sozluk2))"
   ]
  },
  {
   "cell_type": "code",
   "execution_count": 17,
   "metadata": {},
   "outputs": [
    {
     "data": {
      "text/plain": [
       "[(0, 'Elma'), (1, 'Armut'), (2, 'Muz'), (3, 'Kiraz')]"
      ]
     },
     "execution_count": 17,
     "metadata": {},
     "output_type": "execute_result"
    }
   ],
   "source": [
    "# enumerate()\n",
    "liste = [\"Elma\",\"Armut\",\"Muz\",\"Kiraz\"]\n",
    "list(enumerate(liste))"
   ]
  },
  {
   "cell_type": "code",
   "execution_count": 20,
   "metadata": {},
   "outputs": [
    {
     "name": "stdout",
     "output_type": "stream",
     "text": [
      "False\n"
     ]
    },
    {
     "data": {
      "text/plain": [
       "True"
      ]
     },
     "execution_count": 20,
     "metadata": {},
     "output_type": "execute_result"
    }
   ],
   "source": [
    "# all() Bütün değerler True ise True, en az bir değer False ise False değer döndürür.\n",
    "# any() Bütün değerler False ise False, en az bir değer True ise True değer döndürür.\n",
    "liste = [True, True, False]\n",
    "print(all(liste))\n",
    "any(liste)"
   ]
  },
  {
   "cell_type": "code",
   "execution_count": 25,
   "metadata": {},
   "outputs": [
    {
     "name": "stdout",
     "output_type": "stream",
     "text": [
      "hata oluştu\n"
     ]
    }
   ],
   "source": [
    "# Hata Yönetimi\n",
    "try:\n",
    "    a = int(\"abcd\")\n",
    "    print(\"program burada\")\n",
    "except:\n",
    "    print(\"hata oluştu\")"
   ]
  },
  {
   "cell_type": "code",
   "execution_count": 27,
   "metadata": {},
   "outputs": [
    {
     "name": "stdout",
     "output_type": "stream",
     "text": [
      "hata oluştu\n",
      "bloklar sona erdi.\n"
     ]
    }
   ],
   "source": [
    "try:\n",
    "    a = int(\"abcd\")\n",
    "except ValueError:\n",
    "    print(\"hata oluştu\")\n",
    "print(\"bloklar sona erdi.\")"
   ]
  },
  {
   "cell_type": "code",
   "execution_count": 31,
   "metadata": {},
   "outputs": [
    {
     "name": "stdout",
     "output_type": "stream",
     "text": [
      "sayı 0'a bölünemez.\n"
     ]
    }
   ],
   "source": [
    "try:\n",
    "    a =int(input(\"Sayi1: \"))\n",
    "    b =int(input(\"Sayi2: \"))\n",
    "    print(a/b)\n",
    "except ValueError:\n",
    "    print(\"inputları doğru giriniz.\")\n",
    "except ZeroDivisionError:\n",
    "    print(\"sayı 0'a bölünemez.\")"
   ]
  },
  {
   "cell_type": "code",
   "execution_count": 32,
   "metadata": {},
   "outputs": [
    {
     "name": "stdout",
     "output_type": "stream",
     "text": [
      "ZeroDivisionError ya da ValueError\n"
     ]
    }
   ],
   "source": [
    "try:\n",
    "    a =int(input(\"Sayi1: \"))\n",
    "    b =int(input(\"Sayi2: \"))\n",
    "    print(a/b)\n",
    "except (ZeroDivisionError,ValueError):\n",
    "    print(\"ZeroDivisionError ya da ValueError\")"
   ]
  },
  {
   "cell_type": "code",
   "execution_count": 37,
   "metadata": {},
   "outputs": [
    {
     "name": "stdout",
     "output_type": "stream",
     "text": [
      "yanlış değer girdiniz.\n"
     ]
    }
   ],
   "source": [
    "# try - except - else\n",
    "# try bloğunun içinde hata oluşursa except bloğuna girer.\n",
    "# try bloğunun içinde hata oluşmazsa else bloğuna girer. \n",
    "try:\n",
    "    a =int(input(\"Sayi1: \"))\n",
    "    b =int(input(\"Sayi2: \"))\n",
    "    print(a/b)\n",
    "except ZeroDivisionError:\n",
    "    print(\"sayı 0'a bölünemez.\")\n",
    "except ValueError:\n",
    "    print(\"yanlış değer girdiniz.\")\n",
    "else:\n",
    "    print(\"program çalıştı.\")"
   ]
  },
  {
   "cell_type": "code",
   "execution_count": 39,
   "metadata": {},
   "outputs": [
    {
     "name": "stdout",
     "output_type": "stream",
     "text": [
      "2.5\n",
      "program sona erdi.\n"
     ]
    }
   ],
   "source": [
    "# try - except -finally(kesin olarak her zaman çalışacak kodlar)\n",
    "try:\n",
    "    a =int(input(\"Sayi1: \"))\n",
    "    b =int(input(\"Sayi2: \"))\n",
    "    print(a/b)\n",
    "except ZeroDivisionError:\n",
    "    print(\"sayı 0'a bölünemez.\")\n",
    "except ValueError:\n",
    "    print(\"yanlış değer girdiniz.\")\n",
    "finally:\n",
    "    print(\"program sona erdi.\")"
   ]
  },
  {
   "cell_type": "code",
   "execution_count": 40,
   "metadata": {},
   "outputs": [
    {
     "name": "stdout",
     "output_type": "stream",
     "text": [
      "hata oluştu.\n",
      "[]\n"
     ]
    }
   ],
   "source": [
    "try:\n",
    "    liste = list(range(100))\n",
    "    print(liste[101])\n",
    "except:\n",
    "    print(\"hata oluştu.\")\n",
    "finally:\n",
    "    liste.clear()\n",
    "    print(liste)"
   ]
  },
  {
   "cell_type": "code",
   "execution_count": 1,
   "metadata": {},
   "outputs": [
    {
     "name": "stdout",
     "output_type": "stream",
     "text": [
      "programda hata oluştu.\n"
     ]
    }
   ],
   "source": [
    "# Hata fırlatma - raise kullanılır.\n",
    "def tersCevir(s):\n",
    "    if (type(s) != str):\n",
    "        raise ValueError(\"Lütfen doğru bir input giriniz.\")\n",
    "    else:\n",
    "        return s[::-1]\n",
    "try:\n",
    "    print(tersCevir(12))\n",
    "except ValueError:\n",
    "    print(\"programda hata oluştu.\")"
   ]
  }
 ],
 "metadata": {
  "kernelspec": {
   "display_name": "Python 3",
   "language": "python",
   "name": "python3"
  },
  "language_info": {
   "codemirror_mode": {
    "name": "ipython",
    "version": 3
   },
   "file_extension": ".py",
   "mimetype": "text/x-python",
   "name": "python",
   "nbconvert_exporter": "python",
   "pygments_lexer": "ipython3",
   "version": "3.10.10"
  },
  "orig_nbformat": 4
 },
 "nbformat": 4,
 "nbformat_minor": 2
}
