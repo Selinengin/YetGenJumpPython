{
  "cells": [
    {
      "cell_type": "markdown",
      "metadata": {
        "id": "B1pKLRfEyvlS"
      },
      "source": [
        "# Problem 3\n",
        "\n",
        "Çeşitli metin dosyalarından karakterleri ayıklamak ve bir listeye koymak için bir Python programı yazın. ```test.txt``` ve ```demo.txt``` dosyalarından faydalanabilirsiniz."
      ]
    },
    {
      "cell_type": "code",
      "execution_count": 4,
      "metadata": {
        "id": "n77qPr6tyzG-"
      },
      "outputs": [
        {
          "name": "stdout",
          "output_type": "stream",
          "text": [
            "['Hello! Welcome to demofile.txt\\nThis file is for testing purposes.\\nGood Luck!', 'Berkcan\\nEmirhan\\nÇağla\\nEnes\\nAdem\\nAhmet\\nBeyza', 'çikolata:15\\nGofret:120\\nsakız:16\\nsüt:22\\n']\n"
          ]
        }
      ],
      "source": [
        "import glob\n",
        "char_list = []\n",
        "files_list = glob.glob(\"*.txt\")\n",
        "for file_elem in files_list:\n",
        "    with open(file_elem,\"r\",encoding=\"utf-8\") as f:\n",
        "        char_list.append(f.read())\n",
        "print(char_list)"
      ]
    }
  ],
  "metadata": {
    "colab": {
      "provenance": []
    },
    "kernelspec": {
      "display_name": "Python 3",
      "name": "python3"
    },
    "language_info": {
      "codemirror_mode": {
        "name": "ipython",
        "version": 3
      },
      "file_extension": ".py",
      "mimetype": "text/x-python",
      "name": "python",
      "nbconvert_exporter": "python",
      "pygments_lexer": "ipython3",
      "version": "3.10.11"
    }
  },
  "nbformat": 4,
  "nbformat_minor": 0
}
