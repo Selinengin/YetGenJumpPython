{
  "cells": [
    {
      "cell_type": "markdown",
      "metadata": {
        "id": "xdJPVw8Qym8-"
      },
      "source": [
        " # Problem 2\n",
        " \n",
        "```test.txt``` dosyasını satır satır okuyun ve bir listede saklayınız. Daha sonra listeyi ekrana bastırınız."
      ]
    },
    {
      "cell_type": "code",
      "execution_count": 7,
      "metadata": {
        "id": "ERxLPkA1yqM9"
      },
      "outputs": [
        {
          "name": "stdout",
          "output_type": "stream",
          "text": [
            "Berkcan\n",
            "\n",
            "Emirhan\n",
            "\n",
            "Çağla\n",
            "\n",
            "Enes\n",
            "\n",
            "Adem\n",
            "\n",
            "Ahmet\n",
            "\n",
            "Beyza\n",
            "['Berkcan\\n', 'Emirhan\\n', 'Çağla\\n', 'Enes\\n', 'Adem\\n', 'Ahmet\\n', 'Beyza']\n"
          ]
        }
      ],
      "source": [
        "def file_read(fname):\n",
        "    with open(fname, encoding=\"utf-8\") as f:\n",
        "        content_list = f.readlines()\n",
        "        for i in content_list:\n",
        "            print(i)\n",
        "        print(content_list)\n",
        "file_read(\"test.txt\")\n",
        "    "
      ]
    }
  ],
  "metadata": {
    "colab": {
      "provenance": []
    },
    "kernelspec": {
      "display_name": "Python 3",
      "name": "python3"
    },
    "language_info": {
      "codemirror_mode": {
        "name": "ipython",
        "version": 3
      },
      "file_extension": ".py",
      "mimetype": "text/x-python",
      "name": "python",
      "nbconvert_exporter": "python",
      "pygments_lexer": "ipython3",
      "version": "3.10.11"
    }
  },
  "nbformat": 4,
  "nbformat_minor": 0
}
