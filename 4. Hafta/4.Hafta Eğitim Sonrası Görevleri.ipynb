{
 "cells": [
  {
   "cell_type": "markdown",
   "metadata": {},
   "source": [
    "# Problem 1\n",
    "`ogrenciler` adında bir sözlük oluşturunuz. Kullanıcıdan döngü yardımıyla 3 öğrenci için veri girmesini isteyerek öğrencilerin sırasıyla okul numarası, isim, soy isim, telefon numarası ve doğum tarihi bilgilerini alınız. Aldığınız öğrenci bilgilerini yine aynı döngü yardımıyla `ogrenciler` adındaki sözlükte saklayınız. Daha sonra öğrenci bilgilerinin bulunduğu sözlük yapısını ekrana bastırınız.\n",
    "\n"
   ]
  },
  {
   "cell_type": "code",
   "execution_count": null,
   "metadata": {},
   "outputs": [],
   "source": [
    "ogrenciler = {}\n",
    "for i in range(1,4):\n",
    "    okulNo = input(\"Öğrencinin okul numarasını giriniz: \")\n",
    "    isim = input(\"Öğrencinin ismini giriniz: \")\n",
    "    soyIsim = input(\"Öğrencinin soy isim giriniz: \")\n",
    "    telNo = input(\"Öğrencinin telefon numarasını giriniz: \")\n",
    "    dogumtarih = input(\"Öğrencinin doğum tarihini giriniz: \")\n",
    "    print(\"****************************************\")\n",
    "    ogrenciler[i] = {\n",
    "        \"Okul No \" : okulNo,\n",
    "        \"isim \" : isim,\n",
    "        \"Soy İsim \" : soyIsim,\n",
    "        \"telefon Numarası \" : telNo,\n",
    "        \"Doğum Tarihi \" : dogumtarih,\n",
    "    }\n",
    "print(ogrenciler)"
   ]
  },
  {
   "cell_type": "markdown",
   "metadata": {},
   "source": [
    "# Problem 2\n",
    "\n",
    "### a - Biraz ısınarak başlayalım!\n",
    "\n",
    "```\n",
    "numbers = [5,10,10,15,15,15,20,20,20,20]\n",
    "```\n",
    "\n",
    "Yukarıda `numbers` adında 10 elemanlı bir liste verilmiştir. Bu listenin her elemanını kontrol eden ve tekrar eden elemanları bir kez olacak şekilde başka bir listeye kopyalayan bir program yazınız. Son olarak oluşturduğunuz listeyi ekrana bastırınız.\n",
    "\n",
    "\n",
    "\n",
    "\n",
    "```\n",
    ">Output\n",
    "[5, 10, 15, 20]\n",
    "```\n"
   ]
  },
  {
   "cell_type": "code",
   "execution_count": 1,
   "metadata": {},
   "outputs": [
    {
     "name": "stdout",
     "output_type": "stream",
     "text": [
      "[5, 10, 15, 20]\n",
      "[5, 10, 15, 20]\n"
     ]
    }
   ],
   "source": [
    "numbers = [5,10,10,15,15,15,20,20,20,20]\n",
    "liste = []\n",
    "for i in numbers:\n",
    "    if i not in liste:\n",
    "        liste.append(i)              \n",
    "print(liste)\n",
    "\n",
    "unique = []\n",
    "for number in numbers:\n",
    "    if number in unique:\n",
    "        continue\n",
    "    else:\n",
    "        unique.append(number)\n",
    "print(unique)"
   ]
  },
  {
   "cell_type": "markdown",
   "metadata": {},
   "source": [
    "### 🌶️ b) Hadi işi biraz daha zorlaştıralım! \n",
    "\n",
    "\n",
    "Şimdiyse senden `numbers` isimli listedeki tekrar eden elemanları `repeatNumbers` adındaki listeye; tekrar etmeyen elemanları `uniqueNumbers`adındaki listeye kopyalayan yazmanı ve listeleri ekrana bastırmanı bekliyoruz\n",
    "\n",
    "```\n",
    ">Output\n",
    "Tekrar Eden Elemanlar: [10, 10, 15, 15, 15, 20, 20, 20, 20]\n",
    "Tekrar Etmeyen Elemanlar: [5]\n",
    "```"
   ]
  },
  {
   "cell_type": "code",
   "execution_count": 22,
   "metadata": {},
   "outputs": [
    {
     "name": "stdout",
     "output_type": "stream",
     "text": [
      "Tekrar Eden Elemanlar:  [10, 10, 15, 15, 15, 20, 20, 20, 20]\n",
      "Tekrar Etmeyen Elemanlar:  [5]\n"
     ]
    }
   ],
   "source": [
    "numbers = [5,10,10,15,15,15,20,20,20,20]\n",
    "repeatNumbers = []\n",
    "uniqueNumbers = []\n",
    "for i in numbers:\n",
    "    if numbers.count(i) == 1:\n",
    "        uniqueNumbers.append(i)\n",
    "    elif numbers.count(i) > 1:  # else:\n",
    "        repeatNumbers.append(i)     # repeatNumbers.append(i)\n",
    "print(\"Tekrar Eden Elemanlar: \", repeatNumbers)\n",
    "print(\"Tekrar Etmeyen Elemanlar: \", uniqueNumbers)"
   ]
  },
  {
   "cell_type": "markdown",
   "metadata": {},
   "source": [
    "# Problem 3\n",
    "sn1 = {1,2,3,4,5}\n",
    "\n",
    "sn2 = {4,5,6,7,8}\n",
    "\n",
    " Verilen 2 adet küme için kesişimlerini, farklarını ve birleşimlerini bulunuz. "
   ]
  },
  {
   "cell_type": "code",
   "execution_count": 10,
   "metadata": {},
   "outputs": [
    {
     "name": "stdout",
     "output_type": "stream",
     "text": [
      "{1, 2, 3}\n",
      "{8, 6, 7}\n",
      "{4, 5}\n",
      "{1, 2, 3, 4, 5, 6, 7, 8}\n",
      "Kesişimleri:  {4, 5}\n",
      "Farkları:  None\n",
      "None\n",
      "Birleşimleri:  {1, 2, 3, 4, 5, 6, 7, 8}\n"
     ]
    }
   ],
   "source": [
    "sn1 = set([1,2,3,4,5])\n",
    "sn2 = set([4,5,6,7,8])\n",
    "print(sn1.difference(sn2))\n",
    "print(sn2.difference(sn1))\n",
    "print(sn1.intersection(sn2))\n",
    "print(sn1.union(sn2))\n",
    "\n",
    "sn1 = {1,2,3,4,5}\n",
    "sn2 = {4,5,6,7,8}\n",
    "kesisim = sn1.intersection(sn2)\n",
    "print(\"Kesişimleri: \", kesisim)\n",
    "fark1 = sn1.difference_update(sn2)\n",
    "print(\"Farkları: \", fark1)\n",
    "\n",
    "birlesim = sn1.union(sn2)\n",
    "print(\"Birleşimleri: \", birlesim)"
   ]
  },
  {
   "cell_type": "markdown",
   "metadata": {},
   "source": [
    "# Problem 4\n",
    "\n",
    "Buradaki işlemlerimizin tamamı stringler içindir. Aşağıda verilecek olan metodlar için kendinizin örnek yaratması gerekmektedir. \n",
    "\n",
    "Örneğin `upper` için `string` değişkeni oluştururken` k = \"BAC\"` şeklinde oluşturmayınız. Bunun yerine k değişkenini `k = \"bac`\" şeklinde oluşturmanız `upper` metodundaki değişimi görebilmeniz için daha iyi olacaktır.\n",
    "\n",
    "Bütün metodlardaki değişimin gözle görülür şekilde değişimi beklenmektedir.\n",
    "\n",
    "\n",
    "1- capitalize(), lower(), upper(), swapcase(), title(), replace()\n",
    "\n",
    "2- endswith(), startswith(), find(), index(), count()\n",
    "\n",
    "3- split(), strip(), join(), islower(), isalpha(), isdigit()\n",
    "\n",
    "\n",
    "Yukarıdaki `string` metodlarındaki değişimleri görebildiğimiz bir program yazınız.\n"
   ]
  },
  {
   "cell_type": "code",
   "execution_count": 3,
   "metadata": {},
   "outputs": [
    {
     "name": "stdout",
     "output_type": "stream",
     "text": [
      "MERHABA, BEN SELIN YETGEN JUMP PYTHON PROGRAMI ILE PYTHON ÖĞRENIYORUM\n",
      "Merhaba, ben selin yetgen jump python programı ile python öğreniyorum\n",
      "merhaba, ben selin yetgen jump python programı ile python öğreniyorum\n",
      "True\n",
      "mERHABA, BEN sELIN yETgEN jUMP pYTHON PROGRAMI ILE PYTHON ÖĞRENIYORUM\n",
      "Merhaba, Ben Selin Yetgen Jump Python Programı Ile Python Öğreniyorum\n",
      "Merhaba, ben Deniz YetGen Jump Python programı ile python öğreniyorum\n",
      "True\n",
      "False\n",
      "29\n",
      "51\n",
      "3\n",
      "['Merhaba', ' ben Selin YetGen Jump Python programı ile python öğreniyorum']\n",
      "python\n",
      "1-2-3-4\n",
      "True\n",
      "True\n",
      "True\n"
     ]
    }
   ],
   "source": [
    "string = \"Merhaba, ben Selin YetGen Jump Python programı ile python öğreniyorum\"\n",
    "string2 = \"         python          \"\n",
    "# 1-\n",
    "print(string.upper())\n",
    "print(string.capitalize())\n",
    "print(string.lower())\n",
    "print(string.lower().islower())\n",
    "print(string.swapcase())\n",
    "print(string.title())\n",
    "print(string.replace(\"Selin\", \"Deniz\"))\n",
    "# 2-\n",
    "print(string.endswith(\"öğreniyorum\"))\n",
    "print(string.startswith(\"m\"))\n",
    "print(string.find(\"p\")) \n",
    "print(string.index(\"python\"))\n",
    "print(string.count(\"m\"))\n",
    "# 3-\n",
    "print(string.split(\",\"))\n",
    "\n",
    "print(string2.strip()) # boşlukları siler\n",
    "a = (\"1\", \"2\", \"3\", \"4\")\n",
    "print(\"-\".join(a))\n",
    "print(string2.islower())\n",
    "string3 = \"yetgenbitmez\"\n",
    "print(string3.isalpha())\n",
    "digit = \"123456\"\n",
    "print(digit.isdigit())"
   ]
  }
 ],
 "metadata": {
  "kernelspec": {
   "display_name": "Python 3.10.5 64-bit",
   "language": "python",
   "name": "python3"
  },
  "language_info": {
   "codemirror_mode": {
    "name": "ipython",
    "version": 3
   },
   "file_extension": ".py",
   "mimetype": "text/x-python",
   "name": "python",
   "nbconvert_exporter": "python",
   "pygments_lexer": "ipython3",
   "version": "3.10.10"
  },
  "orig_nbformat": 4,
  "vscode": {
   "interpreter": {
    "hash": "5026d2d6e7aaaaba093def813beadff083d8733e4a511af01735cbabd156995d"
   }
  }
 },
 "nbformat": 4,
 "nbformat_minor": 2
}
