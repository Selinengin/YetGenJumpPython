{
  "cells": [
    {
      "cell_type": "markdown",
      "metadata": {
        "id": "tsD4YVAe_Te2"
      },
      "source": [
        "# Problem 1\n",
        "Bir sayının 7'ye bölünebilir olup olmadığını kontrol etmek \n",
        "için bir program yazın.\n",
        "\n",
        "İpucu: Mod operatörünü (%) kullanabilirsiniz."
      ]
    },
    {
      "cell_type": "code",
      "execution_count": 14,
      "metadata": {
        "id": "NGjvNwKx_Te7"
      },
      "outputs": [
        {
          "name": "stdout",
          "output_type": "stream",
          "text": [
            "sayı 7 ile tam bölünemez\n"
          ]
        }
      ],
      "source": [
        "sayi = int(input(\"Bir sayı giriniz:\"))\n",
        "if sayi % 7 == 0:\n",
        "    print(\"sayı 7 ile tam bölünebilir\")\n",
        "else:\n",
        "    print(\"sayı 7 ile tam bölünemez\")"
      ]
    },
    {
      "cell_type": "markdown",
      "metadata": {
        "id": "Kg3qiBAI_Te8"
      },
      "source": [
        "# Problem 2\n",
        "Kullanıcıdan vize ve final notu isteyin. Girilen vize notunun %40’ı ve \n",
        "girilen finalnotunun ise %60’ı alınarak yıl sonu not ortalaması hesaplanacaktır. \n",
        "\n",
        "Bu not ortalaması eğer 85 ve üzeri ise AA, \n",
        "\n",
        "75 ve 85 arasında ise BA, \n",
        "\n",
        "70 ve 75 arasında ise BB, \n",
        "\n",
        "65 ve 70 arasında ise CB,\n",
        "\n",
        "60 ve 65 arasında ise CC,\n",
        "\n",
        "55 ve 60 arasında ise DC,\n",
        "\n",
        "50 ve 55 arasında ise DD olarak hesaplanacaktır. \n",
        "\n",
        "Bu öğrencinin yıl sonu toplam notu 50’nin altında ise FF ile dersten kalacaktır. \n",
        "\n",
        "Ayrıca öğrencinin final notu 50’nin altında ise direkt FF ile kalacaktır."
      ]
    },
    {
      "cell_type": "code",
      "execution_count": 4,
      "metadata": {
        "id": "MXTtCxI1_Te8"
      },
      "outputs": [
        {
          "name": "stdout",
          "output_type": "stream",
          "text": [
            "CB\n"
          ]
        }
      ],
      "source": [
        "vizenot = int(input(\"Vize notunuzu giriniz: \"))\n",
        "finalnot = int(input(\"Final notunuzu giriniz: \"))\n",
        "notort = (vizenot * (0.40)) + (finalnot * (0.60))\n",
        "if finalnot < 50:\n",
        "    print(\"FF\")\n",
        "else:\n",
        "    if notort >= 85:\n",
        "        print(\"AA\")\n",
        "    elif notort >= 75 and notort <85:\n",
        "        print(\"BA\")\n",
        "    elif notort >= 70 and notort <75:\n",
        "        print(\"BB\")\n",
        "    elif notort >= 65 and notort <70:\n",
        "        print(\"CB\")\n",
        "    elif notort >= 60 and notort <65:\n",
        "        print(\"CC\")\n",
        "    elif notort >= 55 and notort <60:\n",
        "        print(\"DC\")\n",
        "    elif notort >= 50 and notort <55:\n",
        "        print(\"DD\")\n",
        "    else:\n",
        "        print(\"FF\")\n",
        "        \n"
      ]
    },
    {
      "cell_type": "markdown",
      "metadata": {
        "id": "tAoRYCTC_Te8"
      },
      "source": [
        "# Problem 3\n",
        "İki YetGenli Zirve'de karşılaşıyorlar. Birbirlerini tanımak için sorular soruyorlar. Birbirlerine yaşlarını soruyorlar. Akıllarına bir Python programı yazıp, yaşlarını ve isimlerini giriyorlar. Büyük olanın yaşını ekrana yazdıran programı yazıyorlar. Sende bu iki YetGenli'ye destek olmak ister misin?\n",
        "\n",
        "```\n",
        "Birinci YetGenlinin ismi: Ahmet\n",
        "Birinci YetGenlinin yaşı : 20\n",
        "İkinci YetGenlinin ismi: Mehmet\n",
        "İkinci YetGenlinin yaşı : 25\n",
        "Mehmet'in yaşı daha büyük ve yaşı 25'tir.\n",
        "```"
      ]
    },
    {
      "cell_type": "code",
      "execution_count": 13,
      "metadata": {
        "id": "bPjE8W0i_Te8"
      },
      "outputs": [
        {
          "name": "stdout",
          "output_type": "stream",
          "text": [
            "mehmet'in yaşı daha büyük ve yaşı 25'tir\n"
          ]
        }
      ],
      "source": [
        "isim1 = str(input(\"İsminiz: \"))\n",
        "yas1 = int(input(\"Yaşınız: \"))\n",
        "isim2 = str(input(\"İsminiz: \"))\n",
        "yas2 = int(input(\"Yaşınız: \"))\n",
        "if yas1 > yas2:\n",
        "    print(f\"{isim1}'in yaşı daha büyük ve yaşı {yas1}'tir\")\n",
        "elif yas2 > yas1:\n",
        "    print(f\"{isim2}'in yaşı daha büyük ve yaşı {yas2}'tir\")\n",
        "else:\n",
        "    print(\"yaşlarınız eşit.\")"
      ]
    },
    {
      "cell_type": "markdown",
      "metadata": {
        "id": "zBVv8Tyg_Te9"
      },
      "source": [
        "# Problem 4\n",
        "Pandemi döneminde AVM'lerde ateş ölçümü yapılıyor. AVM'ye giren kişinin ateş ölçümü 37.5 derecenin altında ise girişe izin veriliyor. 37.5 derecenin üstünde ise girişe izin verilmiyor. AVM'ye girişe izin verilip verilmediğini ekrana yazdıran bir program yazın.\n",
        "\n",
        "Program sonunda şöyle bir çıktı elde etmelisiniz:\n",
        "\n",
        "```\n",
        "Ateşiniz 37.5 derece. AVM'ye girebilirsin! Maske takmayı unutma!\n",
        "Ateşiniz 37.6 derece. AVM'ye giremezsin! Hemen evine dön!\n",
        "```"
      ]
    },
    {
      "cell_type": "code",
      "execution_count": 16,
      "metadata": {
        "id": "TSAXs8et_Te9"
      },
      "outputs": [
        {
          "name": "stdout",
          "output_type": "stream",
          "text": [
            "Ateşiniz 37.0 derece. AVM'ye girebilirsin! Maske takmayı unutma!\n"
          ]
        }
      ],
      "source": [
        "atesolcusu = float(input(\"Ateş ölçünüz: \"))\n",
        "if atesolcusu < 37.5:\n",
        "    print(f\"Ateşiniz {atesolcusu} derece. AVM'ye girebilirsin! Maske takmayı unutma!\")\n",
        "else:\n",
        "    print(f\"Ateşiniz {atesolcusu} derece. AVM'ye giremezsin! Hemen evine dön!\")"
      ]
    },
    {
      "cell_type": "markdown",
      "metadata": {
        "id": "6AEkZrDt_Te9"
      },
      "source": [
        "# Problem 5\n",
        "YetGen bir spor kulübüyle sponsorluk anlaşması yapıyor. Kulüp, sponsorluk anlaşmasına göre her YetGen liderinin beden kitle indeksini hesaplamak istiyor. Spor kulübü, beden kitle indeksini hesaplamak için YetGen Jump Python liderlerinden Berkcan ve Ahmet'i arıyor. Berkcan ve Ahmet, kulübe yardımcı olmak için bir Python programı yazıyorlar. Sende bu iki YetGen liderine destek olmak ister misin?\n",
        "\n",
        "Kullanıcıdan alınan boy ve kilo değerlerine göre beden kitle indeksini hesaplayın ve şu kurallara göre ekrana şu yazıları yazdırın.\n",
        "\n",
        "\n",
        "Beden Kitle İndeksi, kişinin ağırlığının (kg olarak) boyunun karesine (m olarak) bölünmesiyle hesaplanır.\n",
        "\n",
        "\n",
        "```\n",
        " BKİ 18.5'un altındaysa -------> Zayıf\n",
        "\n",
        " BKİ 18.5 ile 25 arasındaysa ------> Normal\n",
        "\n",
        " BKİ 25 ile 30 arasındaysa --------> Fazla Kilolu\n",
        "\n",
        " BKİ 30'un üstündeyse -------------> Obez\n",
        "```\n",
        "\n"
      ]
    },
    {
      "cell_type": "code",
      "execution_count": 39,
      "metadata": {
        "id": "t-XPI_u0_Te-"
      },
      "outputs": [
        {
          "name": "stdout",
          "output_type": "stream",
          "text": [
            "Normal\n"
          ]
        }
      ],
      "source": [
        "boy = float(input(\"Boyunuz: \"))\n",
        "kilo = float(input(\"Kilonuz: \"))\n",
        "bkindeks =  kilo / boy ** 2\n",
        "if bkindeks <= 18.5:\n",
        "    print(\"Zayıf\")\n",
        "elif bkindeks > 18.5 and bkindeks <= 25:\n",
        "    print(\"Normal\")\n",
        "elif bkindeks > 25 and bkindeks <= 30:\n",
        "    print(\"Fazla kilolu\")\n",
        "elif bkindeks > 30:\n",
        "    print(\"Obez\")\n",
        "\n"
      ]
    },
    {
      "cell_type": "markdown",
      "metadata": {
        "id": "oFsvQyaO_Te-"
      },
      "source": [
        "# Problem 6\n",
        "Kullanıcıdan isim, yaş ve eğitim bilgilerini isteyip ehliyet alabilme  durumunu kontrol ediniz. \n",
        "\n",
        "Ehliyet alma koşulu en az 18 yaşında ve eğitim durumu lise ya da üniversite olmalıdır. "
      ]
    },
    {
      "cell_type": "code",
      "execution_count": 30,
      "metadata": {
        "id": "Tu2mcgco_Te-"
      },
      "outputs": [
        {
          "name": "stdout",
          "output_type": "stream",
          "text": [
            "Ehliyet alamazsınız.\n"
          ]
        }
      ],
      "source": [
        "isim = str(input(\"İsminiz: \"))\n",
        "yas = int(input(\"Yaşınız: \"))\n",
        "egitim = str(input(\"Eğitim durumunuz: \"))\n",
        "if yas >= 18 and egitim == \"lise\" or egitim == \"üniversite\":\n",
        "    print(\"Ehliyet alabilirsiniz.\")\n",
        "else: \n",
        "    print(\"Ehliyet alamazsınız.\")"
      ]
    },
    {
      "cell_type": "markdown",
      "metadata": {
        "id": "eUkxVSAE_Te_"
      },
      "source": [
        "# Problem 7\n",
        "Bir yılın artık yıl olup olmadığını kontrol etmek için bir program yazın. \n",
        "Artık yıl kuralı:\n",
        "\n",
        "a) Eğer yılın son iki basamağı (00) ile bitmiyor ve yalnızca 4'e tam bölünüyorsa artık yıldır. Ya da, \n",
        "\n",
        "b) Eğer yıl 400'e tam bölünüyorsa artık yıldır.\n",
        "\n",
        "**Örneğin**\n",
        "```\n",
        "2017 artık yıl değildir.\n",
        "1900 artık yıl değildir\n",
        "2012 artık yıldır.\n",
        "2000 artık yıldır.\n",
        "```"
      ]
    },
    {
      "cell_type": "code",
      "execution_count": 38,
      "metadata": {
        "id": "4uWh8qUL_Te_"
      },
      "outputs": [
        {
          "name": "stdout",
          "output_type": "stream",
          "text": [
            "2000 artık yıldır.\n"
          ]
        }
      ],
      "source": [
        "artikYilMi = int(input(\"Yıl giriniz: \"))\n",
        "if artikYilMi % 4 == 0 and artikYilMi %100 != 0 or artikYilMi % 400 == 0:\n",
        "    print(f\"{artikYilMi} artık yıldır.\")\n",
        "else:\n",
        "    print(f\"{artikYilMi} artık yıl değildir.\")"
      ]
    }
  ],
  "metadata": {
    "colab": {
      "provenance": []
    },
    "kernelspec": {
      "display_name": "Python 3",
      "language": "python",
      "name": "python3"
    },
    "language_info": {
      "codemirror_mode": {
        "name": "ipython",
        "version": 3
      },
      "file_extension": ".py",
      "mimetype": "text/x-python",
      "name": "python",
      "nbconvert_exporter": "python",
      "pygments_lexer": "ipython3",
      "version": "3.10.10"
    },
    "orig_nbformat": 4,
    "vscode": {
      "interpreter": {
        "hash": "fe08b3bf7c974c721045664a3bac61415d6e497350f49234b5ba1e2458a0fc19"
      }
    }
  },
  "nbformat": 4,
  "nbformat_minor": 0
}
