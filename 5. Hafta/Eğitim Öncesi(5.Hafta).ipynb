{
 "cells": [
  {
   "cell_type": "code",
   "execution_count": null,
   "metadata": {},
   "outputs": [],
   "source": [
    "# List Comprehension\n",
    "# Klasik Yöntem\n",
    "liste = [1, 2, 3, 4, 5]\n",
    "yiniListe = []\n",
    "for i in liste:\n",
    "    yiniListe.append(i*i)\n",
    "print(yiniListe)"
   ]
  },
  {
   "cell_type": "code",
   "execution_count": null,
   "metadata": {},
   "outputs": [],
   "source": [
    "# List\n",
    "liste = [1, 2, 3, 4, 5]\n",
    "yeniListe = [i * i for i in liste]\n",
    "print(yiniListe)"
   ]
  },
  {
   "cell_type": "code",
   "execution_count": null,
   "metadata": {},
   "outputs": [],
   "source": [
    "liste = [[1,2,3],[4,5,6,7,8],[9,10,11,12,13,14,15]]\n",
    "liste2 = [x for i in liste for x in i]\n",
    "print(liste2)\n",
    "for i in liste:\n",
    "    for x in i:\n",
    "        print(x)"
   ]
  },
  {
   "cell_type": "code",
   "execution_count": null,
   "metadata": {},
   "outputs": [],
   "source": [
    "liste1 = [1, 2, 3, 4, 5, 6, 7, 8, 9, 10]\n",
    "liste2 = [i for i in liste1 if not(i == 4 or i == 9)]\n",
    "print(liste2)"
   ]
  },
  {
   "cell_type": "code",
   "execution_count": null,
   "metadata": {},
   "outputs": [],
   "source": [
    "# Foksiyonlar\n",
    "def selamlar():\n",
    "    print(\"Merhaba\")\n",
    "selamlar()"
   ]
  },
  {
   "cell_type": "code",
   "execution_count": null,
   "metadata": {},
   "outputs": [],
   "source": [
    "def helloWorld(name = \"ziyaretçi\"):\n",
    "    print(\"Merhaba\", name)\n",
    "helloWorld()\n",
    "helloWorld(\"Selin\")"
   ]
  },
  {
   "cell_type": "code",
   "execution_count": null,
   "metadata": {},
   "outputs": [],
   "source": [
    "def topla(sayi1, sayi2, sayi3):\n",
    "    toplam = sayi1 + sayi2 + sayi3\n",
    "    print(toplam)\n",
    "topla(1,2,3)"
   ]
  },
  {
   "cell_type": "code",
   "execution_count": null,
   "metadata": {},
   "outputs": [],
   "source": [
    "def merhaba(name = \"Selin\", surname = \"Engin\"):\n",
    "    print(\"Siteme hoş geldin \" + name + \" \" + surname)\n",
    "merhaba(\"Nurçin\", \"Genç\")"
   ]
  },
  {
   "cell_type": "code",
   "execution_count": null,
   "metadata": {},
   "outputs": [],
   "source": [
    "def merhaba(dil):\n",
    "    if dil == \"es\":\n",
    "        print(\"Hola\")\n",
    "    elif dil == \"fr\":\n",
    "        print(\"Bonjour\")\n",
    "    elif dil == \"en\":\n",
    "        print(\"Hello\")\n",
    "    else:\n",
    "        print(\"Merhaba\")\n",
    "merhaba(\"tr\")"
   ]
  },
  {
   "cell_type": "code",
   "execution_count": null,
   "metadata": {},
   "outputs": [],
   "source": [
    "# Return\n",
    "def dikUcgenAlaniHesapla(a,b):\n",
    "    return (a*b)/2\n",
    "alan = dikUcgenAlaniHesapla(2,3)\n",
    "print(alan)"
   ]
  },
  {
   "cell_type": "code",
   "execution_count": null,
   "metadata": {},
   "outputs": [],
   "source": [
    "# *args isimsiz argümanlardır\n",
    "def sayilar(*x):\n",
    "    print(x)\n",
    "sayilar(4,5,6,7)"
   ]
  },
  {
   "cell_type": "code",
   "execution_count": null,
   "metadata": {},
   "outputs": [],
   "source": [
    "def topla(*x):\n",
    "    toplam = 0\n",
    "    for i in x:\n",
    "        toplam += i\n",
    "    print(toplam)\n",
    "topla(1,2,3,4,5)"
   ]
  },
  {
   "cell_type": "code",
   "execution_count": null,
   "metadata": {},
   "outputs": [],
   "source": [
    "# **kwargs isimli argümanlardır\n",
    "def kimlikGoster(**kimlik):\n",
    "    print(kimlik)\n",
    "kimlikGoster(ad = \"Selin\", soyad = \"Engin\", yas = 25)"
   ]
  },
  {
   "cell_type": "code",
   "execution_count": null,
   "metadata": {},
   "outputs": [],
   "source": [
    "def ornek(a, *sayilar, b, **kimlik):\n",
    "    print(a)\n",
    "    print(sayilar)\n",
    "    print(b)\n",
    "    print(kimlik)\n",
    "ornek(10,20,30,40,50, b = 6,ad = \"Selin\", soyad = \"Engin\", yas = 25)"
   ]
  },
  {
   "cell_type": "code",
   "execution_count": null,
   "metadata": {},
   "outputs": [],
   "source": [
    "# Pass\n",
    "def carp(*sayilar):\n",
    "    for sayi in sayilar:\n",
    "        pass\n",
    "carp(2, 5)"
   ]
  },
  {
   "cell_type": "code",
   "execution_count": null,
   "metadata": {},
   "outputs": [],
   "source": [
    "# Global ve yerel değişkenler\n",
    "def yazdir():\n",
    "    x = 5\n",
    "    print(y)\n",
    "yazdir()\n",
    "print(y)"
   ]
  },
  {
   "cell_type": "code",
   "execution_count": 37,
   "metadata": {},
   "outputs": [
    {
     "name": "stdout",
     "output_type": "stream",
     "text": [
      "5\n",
      "5\n"
     ]
    }
   ],
   "source": [
    "def yazdir2():\n",
    "    global y\n",
    "    y = 5\n",
    "    print(y)\n",
    "yazdir2()\n",
    "print(y)"
   ]
  },
  {
   "cell_type": "code",
   "execution_count": 41,
   "metadata": {},
   "outputs": [
    {
     "name": "stdout",
     "output_type": "stream",
     "text": [
      "6\n",
      "nileS\n"
     ]
    }
   ],
   "source": [
    "# Lambda: isimsiz fonksiyonlardır. Tek satırda yazılırlar\n",
    "# Fonksiyonadı = lambda parametreler : yapılacakişlem\n",
    "dikUcgenAlaniHesap = lambda a,b : a*b/2\n",
    "dikUcgenAlaniHesap(2,5)\n",
    "ikiylecarp = lambda x : print(x*2)\n",
    "ikiylecarp(3)\n",
    "ters = lambda s : s[::-1]\n",
    "print(ters(\"Selin\"))"
   ]
  }
 ],
 "metadata": {
  "kernelspec": {
   "display_name": "Python 3",
   "language": "python",
   "name": "python3"
  },
  "language_info": {
   "codemirror_mode": {
    "name": "ipython",
    "version": 3
   },
   "file_extension": ".py",
   "mimetype": "text/x-python",
   "name": "python",
   "nbconvert_exporter": "python",
   "pygments_lexer": "ipython3",
   "version": "3.10.11"
  },
  "orig_nbformat": 4
 },
 "nbformat": 4,
 "nbformat_minor": 2
}
