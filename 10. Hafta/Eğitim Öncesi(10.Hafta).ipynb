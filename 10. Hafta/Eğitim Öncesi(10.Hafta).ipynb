{
 "cells": [
  {
   "cell_type": "code",
   "execution_count": 1,
   "metadata": {},
   "outputs": [
    {
     "name": "stdout",
     "output_type": "stream",
     "text": [
      "[2, 6, 12, 20]\n"
     ]
    }
   ],
   "source": [
    "# NUMPY\n",
    "# klasik Yöntem\n",
    "a = [1,2,3,4]\n",
    "b = [2,3,4,5]\n",
    "ab = []\n",
    "for i in range(0,len(a)):\n",
    "    ab.append(a[i]*b[i])\n",
    "print(ab)"
   ]
  },
  {
   "cell_type": "code",
   "execution_count": 4,
   "metadata": {},
   "outputs": [
    {
     "name": "stdout",
     "output_type": "stream",
     "text": [
      "[ 2  6 12 20]\n"
     ]
    }
   ],
   "source": [
    "# Numpy ile\n",
    "import numpy as np \n",
    "a = np.array([1,2,3,4])\n",
    "b = np.array([2,3,4,5])\n",
    "print(a*b)"
   ]
  },
  {
   "cell_type": "code",
   "execution_count": 4,
   "metadata": {},
   "outputs": [
    {
     "name": "stdout",
     "output_type": "stream",
     "text": [
      "[[1 2 3]\n",
      " [4 5 6]\n",
      " [7 8 9]]\n"
     ]
    }
   ],
   "source": [
    "# .reshape() fonksiyonu ile arraylerin boyutlarını değiştirebiliriz.\n",
    "x = np.array([1,2,3,4,5,6,7,8,9])\n",
    "multi = x.reshape(3,3)\n",
    "print(multi)"
   ]
  },
  {
   "cell_type": "code",
   "execution_count": 6,
   "metadata": {},
   "outputs": [
    {
     "name": "stdout",
     "output_type": "stream",
     "text": [
      "(3, 3)\n",
      "(9,)\n"
     ]
    }
   ],
   "source": [
    "# .shape ile arraylerin boyutlarını öğrenebiliriz.\n",
    "print(multi.shape)\n",
    "print(x.shape)"
   ]
  },
  {
   "cell_type": "code",
   "execution_count": 8,
   "metadata": {},
   "outputs": [
    {
     "name": "stdout",
     "output_type": "stream",
     "text": [
      "1\n",
      "2\n"
     ]
    }
   ],
   "source": [
    "# .ndim ile arraylerin boyut sayısını öğrenebiliriz.\n",
    "print(x.ndim)\n",
    "print(multi.ndim)"
   ]
  },
  {
   "cell_type": "code",
   "execution_count": 9,
   "metadata": {},
   "outputs": [
    {
     "name": "stdout",
     "output_type": "stream",
     "text": [
      "[ 1  2  3  4  5  6  7  8  9 10]\n"
     ]
    }
   ],
   "source": [
    "# Birleştirme (Concatenation)\n",
    "# .concatenate() fonksiyonu ile birleştirme yapabiliriz.\n",
    "x = np.array([1,2,3,4,5])\n",
    "y = np.array([6,7,8,9,10])\n",
    "print(np.concatenate([x,y]))"
   ]
  },
  {
   "cell_type": "code",
   "execution_count": 10,
   "metadata": {},
   "outputs": [
    {
     "name": "stdout",
     "output_type": "stream",
     "text": [
      "[ 1  2  3  4  5  6  7  8  9 10 11 12 13 14 15]\n"
     ]
    }
   ],
   "source": [
    "z = np.array([11,12,13,14,15])\n",
    "print(np.concatenate([x,y,z]))"
   ]
  },
  {
   "cell_type": "code",
   "execution_count": 12,
   "metadata": {},
   "outputs": [
    {
     "name": "stdout",
     "output_type": "stream",
     "text": [
      "[[1 2 3]\n",
      " [4 5 6]\n",
      " [1 2 3]\n",
      " [4 5 6]]\n"
     ]
    }
   ],
   "source": [
    "a = np.array([[1,2,3],[4,5,6]])\n",
    "print(np.concatenate([a,a]))"
   ]
  },
  {
   "cell_type": "code",
   "execution_count": 14,
   "metadata": {},
   "outputs": [
    {
     "name": "stdout",
     "output_type": "stream",
     "text": [
      "[[1 2 3]\n",
      " [4 5 6]\n",
      " [1 2 3]\n",
      " [4 5 6]]\n",
      "[[1 2 3 1 2 3]\n",
      " [4 5 6 4 5 6]]\n"
     ]
    }
   ],
   "source": [
    "# axis = 0 ise satır bazında birleştirme yapar.\n",
    "# axis = 1 ise sütun bazında birleştirme yapar.\n",
    "print(np.concatenate([a,a], axis=0))\n",
    "print(np.concatenate([a,a], axis=1))"
   ]
  },
  {
   "cell_type": "code",
   "execution_count": 15,
   "metadata": {},
   "outputs": [
    {
     "name": "stdout",
     "output_type": "stream",
     "text": [
      "[array([1, 2, 3]), array([99, 99]), array([3, 2, 1])]\n"
     ]
    }
   ],
   "source": [
    "# Array Ayırma (Splitting)\n",
    "# .split() fonksiyonu ile array ayırma yapabiliriz.\n",
    "m = np.array([1,2,3,99,99,3,2,1])\n",
    "print(np.split(m,[3,5]))"
   ]
  },
  {
   "cell_type": "code",
   "execution_count": 16,
   "metadata": {},
   "outputs": [
    {
     "name": "stdout",
     "output_type": "stream",
     "text": [
      "[1 2 3]\n",
      "[99 99]\n",
      "[3 2 1]\n"
     ]
    }
   ],
   "source": [
    "a,b,c = np.split(m,[3,5])\n",
    "print(a)\n",
    "print(b)\n",
    "print(c)"
   ]
  },
  {
   "cell_type": "code",
   "execution_count": 10,
   "metadata": {},
   "outputs": [
    {
     "data": {
      "text/plain": [
       "[array([[0, 1, 2, 3],\n",
       "        [4, 5, 6, 7]]),\n",
       " array([[ 8,  9, 10, 11],\n",
       "        [12, 13, 14, 15]])]"
      ]
     },
     "execution_count": 10,
     "metadata": {},
     "output_type": "execute_result"
    }
   ],
   "source": [
    "# .vsplit() fonksiyonu ile array yatay olarak ayırma yapabiliriz.\n",
    "n = np.arange(16).reshape(4,4)\n",
    "np.vsplit(n,[2])\n"
   ]
  },
  {
   "cell_type": "code",
   "execution_count": 11,
   "metadata": {},
   "outputs": [
    {
     "data": {
      "text/plain": [
       "[array([[ 0,  1],\n",
       "        [ 4,  5],\n",
       "        [ 8,  9],\n",
       "        [12, 13]]),\n",
       " array([[ 2,  3],\n",
       "        [ 6,  7],\n",
       "        [10, 11],\n",
       "        [14, 15]])]"
      ]
     },
     "execution_count": 11,
     "metadata": {},
     "output_type": "execute_result"
    }
   ],
   "source": [
    "# .hsplit() fonksiyonu ile array dikey olarak ayırma yapabiliriz.\n",
    "np.hsplit(n,[2])"
   ]
  },
  {
   "cell_type": "code",
   "execution_count": 22,
   "metadata": {},
   "outputs": [
    {
     "data": {
      "text/plain": [
       "array([ 3,  5,  7,  9, 11])"
      ]
     },
     "execution_count": 22,
     "metadata": {},
     "output_type": "execute_result"
    }
   ],
   "source": [
    "# np.arange(start,stop,step) : Belli bir aralıkta sayıları oluşturmak için kullanılır.\n",
    "np.arange(3,12,2)"
   ]
  },
  {
   "cell_type": "code",
   "execution_count": 8,
   "metadata": {},
   "outputs": [
    {
     "data": {
      "text/plain": [
       "array([0., 0., 0., 0., 0.])"
      ]
     },
     "execution_count": 8,
     "metadata": {},
     "output_type": "execute_result"
    }
   ],
   "source": [
    "# np.zeros() : 0 lardan oluşan bir numpy dizisi oluşturulması için kullanılır.\n",
    "np.zeros(5)"
   ]
  },
  {
   "cell_type": "code",
   "execution_count": 24,
   "metadata": {},
   "outputs": [
    {
     "data": {
      "text/plain": [
       "array([1., 1., 1., 1.])"
      ]
     },
     "execution_count": 24,
     "metadata": {},
     "output_type": "execute_result"
    }
   ],
   "source": [
    "# np.ones() : 1 lerden oluşan bir numpy dizisi oluşturulması için kullanılır.\n",
    "np.ones(4)"
   ]
  },
  {
   "cell_type": "code",
   "execution_count": 25,
   "metadata": {},
   "outputs": [
    {
     "data": {
      "text/plain": [
       "array([  0.,  25.,  50.,  75., 100.])"
      ]
     },
     "execution_count": 25,
     "metadata": {},
     "output_type": "execute_result"
    }
   ],
   "source": [
    "# np.linspace() : Belli bir aralıkta sayıları oluşturmak için kullanlır.\n",
    "np.linspace(0,100,5)"
   ]
  },
  {
   "cell_type": "code",
   "execution_count": 7,
   "metadata": {},
   "outputs": [
    {
     "data": {
      "text/plain": [
       "array([1, 3, 6])"
      ]
     },
     "execution_count": 7,
     "metadata": {},
     "output_type": "execute_result"
    }
   ],
   "source": [
    "np.random.randint(0,10,3)"
   ]
  },
  {
   "cell_type": "code",
   "execution_count": 15,
   "metadata": {},
   "outputs": [
    {
     "name": "stdout",
     "output_type": "stream",
     "text": [
      "[ 0  1  2  3  4  5  6  7  8  9 10 11 12 13 14 15 16 17 18 19 20 21 22 23\n",
      " 24 25 26 27 28 29 30 31 32 33 34 35 36 37 38 39 40 41 42 43 44 45 46 47\n",
      " 48 49]\n",
      "[[ 0  1  2  3  4  5  6  7  8  9]\n",
      " [10 11 12 13 14 15 16 17 18 19]\n",
      " [20 21 22 23 24 25 26 27 28 29]\n",
      " [30 31 32 33 34 35 36 37 38 39]\n",
      " [40 41 42 43 44 45 46 47 48 49]]\n",
      "[ 45 145 245 345 445]\n"
     ]
    }
   ],
   "source": [
    "#import numpy as np\n",
    "npArray = np.arange(50)\n",
    "npMulti = npArray.reshape(5,10)\n",
    "print(npArray)\n",
    "print(npMulti)\n",
    "print(npMulti.sum(axis=1)) # yatayda toplar"
   ]
  },
  {
   "cell_type": "code",
   "execution_count": 18,
   "metadata": {},
   "outputs": [
    {
     "name": "stdout",
     "output_type": "stream",
     "text": [
      "[5 7 9 1 9 4 2 1 0 5]\n",
      "1\n",
      "(10,)\n",
      "10\n",
      "int32\n"
     ]
    }
   ],
   "source": [
    "\"\"\" Numpy Array Özellikleri\n",
    "ndim : Boyut sayısı\n",
    "shape : Boyut bilgisi\n",
    "size : Toplam eleman sayısı\n",
    "dtype : Veri tipi\n",
    "\"\"\"\n",
    "a = np.random.randint(10,size = 10)\n",
    "print(a)\n",
    "print(a.ndim)\n",
    "print(a.shape)\n",
    "print(a.size)\n",
    "print(a.dtype)"
   ]
  },
  {
   "cell_type": "code",
   "execution_count": 22,
   "metadata": {},
   "outputs": [
    {
     "name": "stdout",
     "output_type": "stream",
     "text": [
      "[  5   8  12  24  42  55 232]\n"
     ]
    }
   ],
   "source": [
    "# sort() : array sıralama\n",
    "v = np.array([8,24,232,12,5,42,55])\n",
    "v.sort()\n",
    "print(v)"
   ]
  },
  {
   "cell_type": "code",
   "execution_count": 27,
   "metadata": {},
   "outputs": [
    {
     "name": "stdout",
     "output_type": "stream",
     "text": [
      "[[20.32808211 18.12304381 24.5492931 ]\n",
      " [16.3251914  17.91027152 22.61732502]\n",
      " [15.08037162 17.78394358 24.82636809]]\n",
      "[[15.08037162 17.78394358 22.61732502]\n",
      " [16.3251914  17.91027152 24.5492931 ]\n",
      " [20.32808211 18.12304381 24.82636809]]\n",
      "[[18.12304381 20.32808211 24.5492931 ]\n",
      " [16.3251914  17.91027152 22.61732502]\n",
      " [15.08037162 17.78394358 24.82636809]]\n"
     ]
    }
   ],
   "source": [
    "m = np.random.normal(20,5,(3,3))\n",
    "print(m)\n",
    "print(np.sort(m,axis= 0))\n",
    "print(np.sort(m,axis= 1))"
   ]
  },
  {
   "cell_type": "code",
   "execution_count": 34,
   "metadata": {},
   "outputs": [
    {
     "name": "stdout",
     "output_type": "stream",
     "text": [
      "9\n",
      "[100   1   7   1   5   6   4   1   8   0]\n"
     ]
    }
   ],
   "source": [
    "# index ile elemanlara erişebiliriz.\n",
    "a = np.random.randint(10,size = 10)\n",
    "print(a[0])\n",
    "a[0] = 100\n",
    "print(a)"
   ]
  },
  {
   "cell_type": "code",
   "execution_count": 38,
   "metadata": {},
   "outputs": [
    {
     "name": "stdout",
     "output_type": "stream",
     "text": [
      "[[5 5 0 8 9]\n",
      " [2 3 6 3 6]\n",
      " [7 5 4 6 4]]\n",
      "5\n",
      "3\n",
      "[[  5   5   0   8   9]\n",
      " [  2   3   6   3 100]\n",
      " [  7   5   4   6   4]]\n"
     ]
    }
   ],
   "source": [
    "x = np.random.randint(10,size=(3,5))\n",
    "print(x)\n",
    "print(x[0,0])\n",
    "print(x[1,1])\n",
    "x[1,4] = 100\n",
    "print(x)"
   ]
  },
  {
   "cell_type": "code",
   "execution_count": 40,
   "metadata": {},
   "outputs": [
    {
     "name": "stdout",
     "output_type": "stream",
     "text": [
      "[[5 5 0 8 9]\n",
      " [2 3 6 3 3]\n",
      " [7 5 4 6 4]]\n"
     ]
    }
   ],
   "source": [
    "x[1,4] = 3.14\n",
    "print(x)"
   ]
  },
  {
   "cell_type": "code",
   "execution_count": 48,
   "metadata": {},
   "outputs": [
    {
     "name": "stdout",
     "output_type": "stream",
     "text": [
      "[20 21 22]\n",
      "[20 21 22]\n",
      "[23 24 25 26 27 28 29]\n",
      "[21 23 25 27 29]\n",
      "[20 22 24 26 28]\n",
      "[22 24 26 28]\n"
     ]
    }
   ],
   "source": [
    "# Slicing ile elemanlara erişmek (array alt kümelerine erişmek)\n",
    "a = np.arange(20,30)\n",
    "print(a[0:3])\n",
    "print(a[:3])\n",
    "print(a[3:])\n",
    "print(a[1::2])\n",
    "print(a[0::2])\n",
    "print(a[2::2])"
   ]
  },
  {
   "cell_type": "code",
   "execution_count": 5,
   "metadata": {},
   "outputs": [
    {
     "name": "stdout",
     "output_type": "stream",
     "text": [
      "[[7 6 8 3 2]\n",
      " [5 7 7 7 7]\n",
      " [0 1 6 3 2]\n",
      " [5 4 6 4 9]\n",
      " [1 3 3 8 2]]\n"
     ]
    }
   ],
   "source": [
    "b = np.random.randint(10,size=[5,5])\n",
    "print(b)"
   ]
  },
  {
   "cell_type": "code",
   "execution_count": 6,
   "metadata": {},
   "outputs": [
    {
     "name": "stdout",
     "output_type": "stream",
     "text": [
      "[7 5 0 5 1]\n",
      "[6 7 1 4 3]\n",
      "[5 7 7 7 7]\n"
     ]
    }
   ],
   "source": [
    "print(b[:,0]) # tüm satırlardaki 0. sütundaki değerleri yaz\n",
    "print(b[:,1])\n",
    "print(b[1,:])"
   ]
  },
  {
   "cell_type": "code",
   "execution_count": 7,
   "metadata": {},
   "outputs": [
    {
     "name": "stdout",
     "output_type": "stream",
     "text": [
      "[[7 6 8]\n",
      " [5 7 7]]\n",
      "[[7 8 2]\n",
      " [0 6 2]\n",
      " [1 3 2]]\n"
     ]
    }
   ],
   "source": [
    "print(b[0:2,0:3]) # satır ,sütun\n",
    "print(b[::2,::2])"
   ]
  },
  {
   "cell_type": "code",
   "execution_count": 8,
   "metadata": {},
   "outputs": [
    {
     "data": {
      "text/plain": [
       "array([[7, 6],\n",
       "       [5, 7],\n",
       "       [0, 1]])"
      ]
     },
     "execution_count": 8,
     "metadata": {},
     "output_type": "execute_result"
    }
   ],
   "source": [
    "# Alt küme üzerinde işlem yapmak\n",
    "alt_b = b[0:3,0:2]\n",
    "alt_b\n"
   ]
  },
  {
   "cell_type": "code",
   "execution_count": 9,
   "metadata": {},
   "outputs": [
    {
     "data": {
      "text/plain": [
       "array([[100,   6],\n",
       "       [  5, 200],\n",
       "       [  0,   1]])"
      ]
     },
     "execution_count": 9,
     "metadata": {},
     "output_type": "execute_result"
    }
   ],
   "source": [
    "alt_b[0,0] = 100\n",
    "alt_b[1,1] = 200\n",
    "alt_b"
   ]
  },
  {
   "cell_type": "code",
   "execution_count": 10,
   "metadata": {},
   "outputs": [
    {
     "name": "stdout",
     "output_type": "stream",
     "text": [
      "[[100   6   8   3   2]\n",
      " [  5 200   7   7   7]\n",
      " [  0   1   6   3   2]\n",
      " [  5   4   6   4   9]\n",
      " [  1   3   3   8   2]]\n"
     ]
    }
   ],
   "source": [
    "print(b)"
   ]
  },
  {
   "cell_type": "code",
   "execution_count": 13,
   "metadata": {},
   "outputs": [
    {
     "name": "stdout",
     "output_type": "stream",
     "text": [
      "[ 0  3  6  9 12 15 18 21 24 27]\n",
      "[ 3  9 15]\n",
      "[[0 1 2]\n",
      " [3 4 5]\n",
      " [6 7 8]]\n",
      "[1 5]\n"
     ]
    }
   ],
   "source": [
    "# Fancy Index : Bir liste içine bu arrayden istediğimiz indisleri koyarak o indislerdeki verileri alabiliriz.\n",
    "v = np.arange(0,30,3)\n",
    "print(v)\n",
    "yetgen = [1,3,5]\n",
    "print(v[yetgen])\n",
    "\n",
    "m = np.arange(9).reshape(3,3)\n",
    "print(m)\n",
    "satir = np.array([0,1])\n",
    "sutun = np.array([1,2])\n",
    "print(m[satir,sutun])"
   ]
  },
  {
   "cell_type": "code",
   "execution_count": 19,
   "metadata": {},
   "outputs": [
    {
     "name": "stdout",
     "output_type": "stream",
     "text": [
      "[False False False  True  True]\n",
      "[4 5]\n",
      "[1 2]\n",
      "[1 2 3]\n",
      "[1 2 4 5]\n",
      "[3]\n"
     ]
    }
   ],
   "source": [
    "# Koşullu Eleman İşlemleri\n",
    "v = np.array([1,2,3,4,5])\n",
    "print(v>3)\n",
    "print(v[v>3])\n",
    "print(v[v<3])\n",
    "print(v[v<=3])\n",
    "print(v[v!=3])\n",
    "print(v[v==3])"
   ]
  },
  {
   "cell_type": "code",
   "execution_count": 33,
   "metadata": {},
   "outputs": [
    {
     "name": "stdout",
     "output_type": "stream",
     "text": [
      "[ 2  4  6  8 10]\n",
      "[3 4 5 6 7]\n",
      "[0.5 1.  1.5 2.  2.5]\n",
      "[ 1  4  9 16 25]\n",
      "[-2 -1  0  1  2]\n",
      "[3 4 5 6 7]\n",
      "[ 2  4  6  8 10]\n",
      "[0.5 1.  1.5 2.  2.5]\n",
      "[ 1  4  9 16 25]\n",
      "[1 2 3 4 0]\n",
      "[1 2 3 4 5]\n",
      "0.9589157234143065\n",
      "2.302585092994046\n"
     ]
    }
   ],
   "source": [
    "# Matematiksel İşlemler\n",
    "print(v * 2)\n",
    "print(v + 2)\n",
    "print(v * 5 / 10)\n",
    "print(v ** 2)\n",
    "print(np.subtract(v,3)) # Her birinden 3 çıkarıyor.\n",
    "print(np.add(v,2)) # Her birine 2 ekliyor.\n",
    "print(np.multiply(v,2)) # çarpma\n",
    "print(np.divide(v,2)) # bölme\n",
    "print(np.power(v,2)) # üs alma\n",
    "print(np.mod(v,5)) # mod alma\n",
    "print(np.absolute(v)) # mutlak değer\n",
    "print(np.sin(360))\n",
    "print(np.log(10))\n",
    "# ?np"
   ]
  },
  {
   "cell_type": "code",
   "execution_count": 36,
   "metadata": {},
   "outputs": [
    {
     "name": "stdout",
     "output_type": "stream",
     "text": [
      "[1.85714286 2.71428571]\n"
     ]
    }
   ],
   "source": [
    "# İki Bilinmeyenli Denklem Çözümü\n",
    "# 5*x0 + x1 = 12\n",
    "# x0 + 3*x1 = 10\n",
    "a = np.array([[5,1],[1,3]])\n",
    "b = np.array([12,10])\n",
    "x = np.linalg.solve(a,b)\n",
    "print(x)"
   ]
  }
 ],
 "metadata": {
  "kernelspec": {
   "display_name": "Python 3",
   "language": "python",
   "name": "python3"
  },
  "language_info": {
   "codemirror_mode": {
    "name": "ipython",
    "version": 3
   },
   "file_extension": ".py",
   "mimetype": "text/x-python",
   "name": "python",
   "nbconvert_exporter": "python",
   "pygments_lexer": "ipython3",
   "version": "3.10.11"
  },
  "orig_nbformat": 4
 },
 "nbformat": 4,
 "nbformat_minor": 2
}
