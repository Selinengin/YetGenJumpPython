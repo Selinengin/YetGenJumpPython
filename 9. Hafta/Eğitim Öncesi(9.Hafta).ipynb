{
 "cells": [
  {
   "cell_type": "code",
   "execution_count": 4,
   "metadata": {},
   "outputs": [
    {
     "name": "stdout",
     "output_type": "stream",
     "text": [
      "\n",
      "        Çalışan bilgisi: \n",
      "            İsim: Berkcan\n",
      "            soyisim: Gümüşışık\n",
      "            numara: 123\n",
      "            maaş: 10000\n",
      "            bildiği diller: ['Python', 'Flutter', 'JS']\n",
      "              \n",
      "Zam yapılıyor\n",
      "\n",
      "        Çalışan bilgisi: \n",
      "            İsim: Berkcan\n",
      "            soyisim: Gümüşışık\n",
      "            numara: 123\n",
      "            maaş: 10250\n",
      "            bildiği diller: ['Python', 'Flutter', 'JS']\n",
      "              \n"
     ]
    }
   ],
   "source": [
    "# Methotlar\n",
    "class Yazilimci():\n",
    "    def __init__(self,isim,soyisim,numara,maas,diller):\n",
    "        self.isim = isim\n",
    "        self.soyisim =soyisim\n",
    "        self.numara = numara\n",
    "        self.maas = maas\n",
    "        self.diller = diller\n",
    "    def bilgileri_goster(self):\n",
    "        print(f\"\"\"\n",
    "        Çalışan bilgisi: \n",
    "            İsim: {self.isim}\n",
    "            soyisim: {self.soyisim}\n",
    "            numara: {self.numara}\n",
    "            maaş: {self.maas}\n",
    "            bildiği diller: {self.diller}\n",
    "              \"\"\")\n",
    "    def dil_ekle(self,yeni_dil):\n",
    "        print(\"Dil eklendi.\")\n",
    "        self.diller.append(yeni_dil)\n",
    "    def maas_yukselt(self,zam):\n",
    "        print(\"Zam yapılıyor\")\n",
    "        self.maas += zam\n",
    "yazilimci = Yazilimci(\"Berkcan\",\"Gümüşışık\",123,10000,[\"Python\",\"Flutter\",\"JS\"])\n",
    "yazilimci.bilgileri_goster()\n",
    "yazilimci.maas_yukselt(250)\n",
    "yazilimci.bilgileri_goster()"
   ]
  },
  {
   "cell_type": "code",
   "execution_count": 10,
   "metadata": {},
   "outputs": [
    {
     "name": "stdout",
     "output_type": "stream",
     "text": [
      "Person nesnesi türetildi.\n",
      "Selin Engin 25\n",
      "Person nesnesi türetildi.\n",
      "Student nesnesi çalıştı.\n",
      "Deniz Engin 17 590\n",
      "590 numaralı öğrenci ders çalışıyor.\n",
      "Person nesnesi türetildi.\n",
      "Teacher nesnesi çalıştı.\n",
      "Sibel Engin 51 Math\n",
      "Sibel isimli öğretmen Math dersine girmektedir.\n"
     ]
    }
   ],
   "source": [
    "# Inheritance\n",
    "# Bir sınıfın özelliklerinin ve metotlarının başka sınıflara aktarılarak işlevinin artırılmasını sağlar.\n",
    "# super() en genel anlamıyla miras aldığımız sınıfın metodlarını alt sınıflardan kullanmamızı sağlar.\n",
    "# super().init() metodu çalışırken sınıfın özelliklerini ve metotlarını kullanır.\n",
    "# Base Class ana sınıftır.\n",
    "# Sub Class Base Class'ının özelliklerini ve metotlarını kullanır.\n",
    "\n",
    "class Person():\n",
    "    def __init__(self,name,surname,age):\n",
    "        self.name = name\n",
    "        self.surname = surname\n",
    "        self.age = age\n",
    "        print(\"Person nesnesi türetildi.\")\n",
    "    def intro(self):\n",
    "        print(self.name,self.surname,self.age)\n",
    "class Student(Person):\n",
    "    def __init__(self,name,surname,age,number):\n",
    "        super(). __init__(name,surname,age)\n",
    "        self.number = number\n",
    "        print(\"Student nesnesi çalıştı.\")\n",
    "    def intro(self):\n",
    "        print(self.name,self.surname,self.age,self.number)\n",
    "    def study(self):\n",
    "        print(f\"{self.number} numaralı öğrenci ders çalışıyor.\")\n",
    "class Teacher(Person):\n",
    "    def __init__(self,name,surname,age,branch):\n",
    "        super(). __init__(name,surname,age)\n",
    "        self.branch = branch\n",
    "        print(\"Teacher nesnesi çalıştı.\")\n",
    "    def intro(self):\n",
    "        print(self.name,self.surname,self.age,self.branch)\n",
    "    def teach(self):\n",
    "        print(f\"{self.name} isimli öğretmen {self.branch} dersine girmektedir.\")\n",
    "p1 = Person(\"Selin\",\"Engin\",25)\n",
    "p1.intro()\n",
    "s1 = Student(\"Deniz\",\"Engin\",17,590)\n",
    "s1.intro()\n",
    "s1.study()\n",
    "t1 = Teacher(\"Sibel\",\"Engin\",51,\"Math\")\n",
    "t1.intro()\n",
    "t1.teach()"
   ]
  }
 ],
 "metadata": {
  "kernelspec": {
   "display_name": "Python 3",
   "language": "python",
   "name": "python3"
  },
  "language_info": {
   "codemirror_mode": {
    "name": "ipython",
    "version": 3
   },
   "file_extension": ".py",
   "mimetype": "text/x-python",
   "name": "python",
   "nbconvert_exporter": "python",
   "pygments_lexer": "ipython3",
   "version": "3.10.11"
  },
  "orig_nbformat": 4
 },
 "nbformat": 4,
 "nbformat_minor": 2
}
